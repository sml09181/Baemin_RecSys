{
 "cells": [
  {
   "cell_type": "markdown",
   "id": "c56992b1",
   "metadata": {},
   "source": [
    "# Data Preprocessing "
   ]
  },
  {
   "cell_type": "markdown",
   "id": "3a71934b",
   "metadata": {},
   "source": [
    "1. (nickname + url) 기준 중복 제거 및 데이터 통합\n",
    "2. 지정한 location의 review만 필터링\n",
    "3. 수집한 restaurant의 review만 필터링 및 restaurant_id 업데이트\n",
    "4. user_id 업데이트\n",
    "5. 동일한 (user, restaurant) 쌍 review 중복 제거 (재방문 제거)\n",
    "6. Review 수가 설정한 threshold 이상인 user만 필터링\n",
    "7. utility matrix"
   ]
  },
  {
   "cell_type": "code",
   "execution_count": null,
   "id": "6c2132c3",
   "metadata": {},
   "outputs": [],
   "source": [
    "import pandas as pd\n",
    "import os"
   ]
  },
  {
   "cell_type": "markdown",
   "id": "376964e7",
   "metadata": {},
   "source": [
    "### 1. (nickname + url) 기준 중복 제거 및 데이터 통합"
   ]
  },
  {
   "cell_type": "code",
   "execution_count": null,
   "id": "7f518002",
   "metadata": {},
   "outputs": [],
   "source": [
    "folder_path = '/proj-rs/data/02_restaurants/user_review'\n",
    "output_path ='/proj-rs/data/02_restaurants/user_review_excel'\n",
    "file_list = [file for file in os.listdir(folder_path) if file.endswith('.xlsx')]\n",
    "\n",
    "all_data = []\n",
    "\n",
    "for file in file_list:\n",
    "    file_path = os.path.join(folder_path, file)\n",
    "    xls = pd.ExcelFile(file_path)\n",
    "    for sheet in xls.sheet_names:\n",
    "        df = pd.read_excel(xls, sheet_name=sheet, header=0)\n",
    "        df['filename'] = file\n",
    "        all_data.append(df)\n",
    "\n",
    "# 데이터 통합\n",
    "combined_df = pd.concat(all_data, ignore_index=True)\n",
    "\n",
    "# 같은 (nickname + url)을 가진 것 중 가장 많이 등장한 store_id만 남기기\n",
    "most_common_store = (\n",
    "    combined_df.groupby(['nickname', 'url'])['store_id']\n",
    "    .agg(lambda x: x.value_counts().idxmax())\n",
    "    .reset_index()\n",
    ")\n",
    "\n",
    "# 중복으로 제거된 nickname 출력\n",
    "original_triples = combined_df[['nickname', 'url', 'store_id']].drop_duplicates()\n",
    "kept_triples = most_common_store[['nickname', 'url', 'store_id']]\n",
    "dropped = pd.merge(original_triples, kept_triples, on=['nickname', 'url', 'store_id'], how='outer', indicator=True)\n",
    "dropped = dropped[dropped['_merge'] == 'left_only']\n",
    "\n",
    "if not dropped.empty:\n",
    "    print(\"중복 제거:\")\n",
    "    for name in dropped['nickname'].unique():\n",
    "        print(name)\n",
    "else:\n",
    "    print(\"중복 제거 X\")\n",
    "\n",
    "dedup_df = pd.merge(\n",
    "    combined_df,\n",
    "    most_common_store,\n",
    "    on=['nickname', 'url', 'store_id'],\n",
    "    how='inner'\n",
    ")\n",
    "\n",
    "dedup_df['url'] = dedup_df['url'].astype(str)\n",
    "\n",
    "output_path = os.path.join(output_path, '05_1_reviews_combine.xlsx')\n",
    "dedup_df.to_excel(output_path, index=False, engine='openpyxl')\n"
   ]
  },
  {
   "cell_type": "markdown",
   "id": "8fe9084e",
   "metadata": {},
   "source": [
    "### 2. 지정한 location의 review만 필터링\n",
    " - 홍제동\n",
    " - 연희동\n",
    " - 대현동\n",
    " - 창천동"
   ]
  },
  {
   "cell_type": "code",
   "execution_count": null,
   "id": "5556dff3",
   "metadata": {},
   "outputs": [],
   "source": [
    "df = pd.read_excel(\"/proj-rs/data/02_restaurants/user_review_excel/05_1_reviews_combine.xlsx\")\n",
    "\n",
    "target_dongs = ['홍제동', '연희동', '대현동', '창천동']\n",
    "filtered_df = df[df['store_location'].str.contains('|'.join(target_dongs))]\n",
    "\n",
    "output_path ='/proj-rs/data/02_restaurants/user_review_excel'\n",
    "output_path = os.path.join(output_path, '05_2_reviews_combine_location.xlsx')\n",
    "filtered_df.to_excel(output_path, index=False, engine='openpyxl')"
   ]
  },
  {
   "cell_type": "markdown",
   "id": "9d736084",
   "metadata": {},
   "source": [
    "### 3. 수집한 restaurant의 review만 필터링 및 restaurant_id 업데이트"
   ]
  },
  {
   "cell_type": "markdown",
   "id": "96633e00",
   "metadata": {},
   "source": [
    "#### 1. restaurant_id 있음: Data 수집한 가게만 (실제 추천 시스템에 활용)"
   ]
  },
  {
   "cell_type": "code",
   "execution_count": null,
   "id": "01268ded",
   "metadata": {},
   "outputs": [],
   "source": [
    "restaurant_df = pd.read_json(\"/proj-rs/data/restaurant_info.json\")\n",
    "excel_df = pd.read_excel(\"/proj-rs/data/02_restaurants/user_review_excel/05_2_reviews_combine_location.xlsx\")\n",
    "\n",
    "\n",
    "merged_df = pd.merge(excel_df, restaurant_df[['restaurant_id', 'res_name']], \n",
    "                     left_on='store_name', right_on='res_name', how='left')\n",
    "\n",
    "merged_df.dropna(subset=['restaurant_id'], inplace=True) # restaurant_id가 NaN인 행 제거\n",
    "merged_df.drop(columns=['res_name', 'filename', 'store_id'], inplace=True)\n",
    "\n",
    "output_path ='/proj-rs/data/02_restaurants/user_review_excel'\n",
    "output_path = os.path.join(output_path, '05_3_reviews_combine_restaurant_id_nan_X.xlsx')\n",
    "merged_df.to_excel(output_path, index=False, engine='openpyxl')"
   ]
  },
  {
   "cell_type": "markdown",
   "id": "6c287de0",
   "metadata": {},
   "source": [
    "#### 2. restaurant_id 없음(NaN) 포함: 리뷰로만 존재하는 가게 포함 (확인 용도, 실제 추천 시스템에 활용 X)"
   ]
  },
  {
   "cell_type": "code",
   "execution_count": null,
   "id": "e26918b6",
   "metadata": {},
   "outputs": [],
   "source": [
    "restaurant_df = pd.read_json(\"/proj-rs/data/restaurant_info.json\")\n",
    "excel_df = pd.read_excel(\"/proj-rs/data/02_restaurants/user_review_excel/05_2_reviews_combine_location.xlsx\")\n",
    "\n",
    "\n",
    "merged_df = pd.merge(excel_df, restaurant_df[['restaurant_id', 'res_name']], \n",
    "                     left_on='store_name', right_on='res_name', how='left')\n",
    "\n",
    "merged_df.drop(columns=['res_name', 'filename', 'store_id'], inplace=True)\n",
    "\n",
    "output_path ='/proj-rs/data/02_restaurants/user_review_excel'\n",
    "output_path = os.path.join(output_path, '05_3_reviews_combine_restaurant_id_nan_O.xlsx')\n",
    "merged_df.to_excel(output_path, index=False, engine='openpyxl')"
   ]
  },
  {
   "cell_type": "markdown",
   "id": "a96b811a",
   "metadata": {},
   "source": [
    "### 4. user_id 업데이트"
   ]
  },
  {
   "cell_type": "code",
   "execution_count": null,
   "id": "805643b8",
   "metadata": {},
   "outputs": [],
   "source": [
    "input_path = \"/proj-rs/data/02_restaurants/user_review_excel/05_3_reviews_combine_restaurant_id_nan_X.xlsx\"\n",
    "df = pd.read_excel(input_path)\n",
    "\n",
    "df['user_id'] = df.groupby(['nickname', 'url'], sort=False).ngroup() + 1\n",
    "\n",
    "output_path ='/proj-rs/data/02_restaurants/user_review_excel'\n",
    "output_path = os.path.join(output_path, '05_4_reviews_combine_user_id_nan_X.xlsx')\n",
    "df.to_excel(output_path, index=False, engine='openpyxl')"
   ]
  },
  {
   "cell_type": "markdown",
   "id": "5914e972",
   "metadata": {},
   "source": [
    "#### Review 수가 설정한 threshold 이상인 user 수 (재방문 제거 전)"
   ]
  },
  {
   "cell_type": "code",
   "execution_count": null,
   "id": "402a5caf",
   "metadata": {},
   "outputs": [
    {
     "name": "stdout",
     "output_type": "stream",
     "text": [
      "    review_count  num_users\n",
      "0              1      15385\n",
      "1              2       4351\n",
      "2              3       1967\n",
      "3              4       1151\n",
      "4              5        712\n",
      "..           ...        ...\n",
      "62            85          2\n",
      "63            95          1\n",
      "64           109          1\n",
      "65           133          1\n",
      "66           166          1\n",
      "\n",
      "[67 rows x 2 columns]\n"
     ]
    }
   ],
   "source": [
    "df = pd.read_excel(\"/proj-rs/data/02_restaurants/user_review_excel/05_4_reviews_combine_user_id_nan_X.xlsx\") \n",
    "\n",
    "user_counts = df['user_id'].value_counts()\n",
    "\n",
    "count_distribution = user_counts.value_counts().sort_index()\n",
    "count_distribution = count_distribution.reset_index(name='num_users')\n",
    "count_distribution.columns = ['review_count', 'num_users']\n",
    "\n",
    "print(count_distribution)"
   ]
  },
  {
   "cell_type": "code",
   "execution_count": 6,
   "id": "6f18c994",
   "metadata": {},
   "outputs": [
    {
     "name": "stdout",
     "output_type": "stream",
     "text": [
      "threshold 3:  19736 6093\n",
      "threshold 4:  21703 4126\n",
      "threshold 5:  22854 2975\n",
      "threshold 6:  23566 2263\n",
      "threshold 7:  24063 1766\n",
      "threshold 8:  24440 1389\n",
      "threshold 9:  24704 1125\n",
      "threshold 10:  24891 938\n"
     ]
    }
   ],
   "source": [
    "for i in range(2, 10):\n",
    "    print(f\"threshold {count_distribution['review_count'][i]}: \", sum(count_distribution['num_users'][:i]), sum(count_distribution['num_users'][i:]))"
   ]
  },
  {
   "cell_type": "markdown",
   "id": "f4282f83",
   "metadata": {},
   "source": [
    "### 5. 동일한 (user, restaurant) 쌍 review 중복 제거 (재방문 제거)"
   ]
  },
  {
   "cell_type": "code",
   "execution_count": null,
   "id": "57513698",
   "metadata": {},
   "outputs": [],
   "source": [
    "df = pd.read_excel(\"/proj-rs/data/02_restaurants/user_review_excel/05_4_reviews_combine_user_id_nan_X.xlsx\")\n",
    "\n",
    "df = df.sort_values('num_visit', ascending=False).drop_duplicates(subset=['user_id', 'store_name', 'url'], keep='first')\n",
    "\n",
    "output_path ='/proj-rs/data/02_restaurants/user_review_excel'\n",
    "output_path = os.path.join(output_path, '05_5_reviews_combine_nan_X_revisit.xlsx')\n",
    "df.to_excel(output_path, index=False, engine='openpyxl')\n"
   ]
  },
  {
   "cell_type": "markdown",
   "id": "1246f6d0",
   "metadata": {},
   "source": [
    "#### Review 수가 설정한 threshold 이상인 user 수 (재방문 제거 후)"
   ]
  },
  {
   "cell_type": "code",
   "execution_count": null,
   "id": "8230cb34",
   "metadata": {},
   "outputs": [
    {
     "name": "stdout",
     "output_type": "stream",
     "text": [
      "threshold 3:  21181 4648\n",
      "threshold 4:  23111 2718\n",
      "threshold 5:  24126 1703\n",
      "threshold 6:  24688 1141\n",
      "threshold 7:  25055 774\n",
      "threshold 8:  25300 529\n",
      "threshold 9:  25428 401\n",
      "threshold 10:  25558 271\n"
     ]
    }
   ],
   "source": [
    "df = pd.read_excel(\"/proj-rs/data/02_restaurants/user_review_excel/05_5_reviews_combine_nan_X_revisit.xlsx\") \n",
    "\n",
    "user_counts = df['user_id'].value_counts()\n",
    "\n",
    "count_distribution = user_counts.value_counts().sort_index()\n",
    "count_distribution = count_distribution.reset_index(name='num_users')\n",
    "count_distribution.columns = ['review_count', 'num_users']\n",
    "\n",
    "for i in range(2, 10):\n",
    "    print(f\"threshold {count_distribution['review_count'][i]}: \", sum(count_distribution['num_users'][:i]), sum(count_distribution['num_users'][i:]))"
   ]
  },
  {
   "cell_type": "code",
   "execution_count": null,
   "id": "b055d05a",
   "metadata": {},
   "outputs": [
    {
     "name": "stdout",
     "output_type": "stream",
     "text": [
      "                store_name  nan_count\n",
      "0                      사러가       1825\n",
      "1                스타벅스 홍제역점       1644\n",
      "2                 버거킹 홍제역점       1584\n",
      "3                맥도날드 홍제역점       1572\n",
      "4             연희사러가 민영 주차장       1502\n",
      "...                    ...        ...\n",
      "3179      AMPM워시큐 연희브라운스톤점          1\n",
      "3180              코맥스 아이앤디          1\n",
      "3181                맛있는패밀리          1\n",
      "3182                라온한식카페          1\n",
      "3183  서대문구 신촌동 주민센터 전기차충전소          1\n",
      "\n",
      "[3184 rows x 2 columns]\n"
     ]
    }
   ],
   "source": [
    "df = pd.read_excel(\"/proj-rs/data/02_restaurants/user_review_excel/05_3_reviews_combine_restaurant_id_nan_O.xlsx\")\n",
    "\n",
    "nan_restaurants = df[df['restaurant_id'].isna()]\n",
    "\n",
    "nan_counts = nan_restaurants['store_name'].value_counts().reset_index()\n",
    "nan_counts.columns = ['store_name', 'nan_count']\n",
    "\n",
    "print(nan_counts)"
   ]
  },
  {
   "cell_type": "markdown",
   "id": "3b00f104",
   "metadata": {},
   "source": [
    "#### data 추가 수집을 위해 NaN값을 많이 가진 restaurant 확인"
   ]
  },
  {
   "cell_type": "code",
   "execution_count": null,
   "id": "ced0cd68",
   "metadata": {},
   "outputs": [
    {
     "name": "stdout",
     "output_type": "stream",
     "text": [
      "총 nan 개수: 159213\n",
      "\n",
      "        store_name  nan_count\n",
      "0              사러가       1825\n",
      "1        스타벅스 홍제역점       1644\n",
      "2         버거킹 홍제역점       1584\n",
      "3        맥도날드 홍제역점       1572\n",
      "4     연희사러가 민영 주차장       1502\n",
      "...            ...        ...\n",
      "1732    골드스윙 스크린골프         10\n",
      "1733       에이스수능영어         10\n",
      "1734  스카이수제고로케 홍제점         10\n",
      "1735     연희MTA태권도장         10\n",
      "1736          작은카페         10\n",
      "\n",
      "[1737 rows x 2 columns]\n"
     ]
    }
   ],
   "source": [
    "df = pd.read_excel(\"/proj-rs/data/02_restaurants/user_review_excel/05_3_reviews_combine_restaurant_id_nan_O.xlsx\")\n",
    "\n",
    "nan_restaurants = df[df['restaurant_id'].isna()]\n",
    "\n",
    "nan_counts = nan_restaurants['store_name'].value_counts().reset_index()\n",
    "nan_counts.columns = ['store_name', 'nan_count']\n",
    "\n",
    "filtered_nan_counts = nan_counts[nan_counts['nan_count'] >= 10]\n",
    "\n",
    "total_nan_count = len(nan_restaurants)\n",
    "print(f\"총 nan 개수: {total_nan_count}\\n\")\n",
    "\n",
    "print(filtered_nan_counts)"
   ]
  },
  {
   "cell_type": "code",
   "execution_count": null,
   "id": "57a6fc23",
   "metadata": {},
   "outputs": [
    {
     "name": "stdout",
     "output_type": "stream",
     "text": [
      "총 nan 개수: 159213\n",
      "\n",
      "      store_name  nan_count category\n",
      "0            사러가       1825       시장\n",
      "1      스타벅스 홍제역점       1644       카페\n",
      "2       버거킹 홍제역점       1584      햄버거\n",
      "3      맥도날드 홍제역점       1572      햄버거\n",
      "4   연희사러가 민영 주차장       1502    민영주차장\n",
      "..           ...        ...      ...\n",
      "96       리정원 신촌점        301  육류,고기요리\n",
      "95        설빙 신촌점        301       빙수\n",
      "98      이공커피 연희점        296   카페,디저트\n",
      "97     춘리마라탕 신촌점        296      마라탕\n",
      "99    육회바른연어 홍대점        295     요리주점\n",
      "\n",
      "[100 rows x 3 columns]\n"
     ]
    }
   ],
   "source": [
    "df = pd.read_excel(\"/proj-rs/data/02_restaurants/user_review_excel/05_3_reviews_combine_restaurant_id_nan_O.xlsx\")\n",
    "\n",
    "# restaurant_id가 NaN인 데이터\n",
    "nan_restaurants = df[df['restaurant_id'].isna()]\n",
    "\n",
    "# NaN store 개수 세기\n",
    "nan_counts = nan_restaurants['store_name'].value_counts().reset_index()\n",
    "nan_counts.columns = ['store_name', 'nan_count']\n",
    "store_categories = nan_restaurants[['store_name', 'category']].drop_duplicates(subset='store_name')\n",
    "nan_counts_with_cat = pd.merge(nan_counts, store_categories, on='store_name', how='left')\n",
    "\n",
    "# 정렬 후 상위 N개\n",
    "top_n = 100\n",
    "top_nan_counts = nan_counts_with_cat.sort_values(by='nan_count', ascending=False).head(top_n)\n",
    "\n",
    "total_nan_count = len(nan_restaurants)\n",
    "print(f\"총 nan 개수: {total_nan_count}\\n\")\n",
    "print(top_nan_counts)\n",
    "\n",
    "top_nan_counts.to_csv('/proj-rs/top_nan.csv', index=False, encoding='utf-8-sig')"
   ]
  },
  {
   "cell_type": "markdown",
   "id": "3965f9c8",
   "metadata": {},
   "source": [
    "### 6. Review 수가 설정한 threshold 이상인 user만 필터링"
   ]
  },
  {
   "cell_type": "code",
   "execution_count": null,
   "id": "43f9d880",
   "metadata": {},
   "outputs": [],
   "source": [
    "df = pd.read_excel(\"/proj-rs/data/02_restaurants/user_review_excel/05_5_reviews_combine_nan_X_revisit.xlsx\")\n",
    "\n",
    "# 사용자별 리뷰 수 계산\n",
    "user_counts = df['user_id'].value_counts()\n",
    "\n",
    "# 리뷰 수 threshold 이상인 사용자만 필터링\n",
    "threshold = 5\n",
    "users_to_keep = user_counts[user_counts >= threshold].index\n",
    "filtered_df = df[df['user_id'].isin(users_to_keep)]\n",
    "\n",
    "filtered_df.to_excel(f\"/proj-rs/data/02_restaurants/user_review_excel/05_6_reviews_threshold{threshold}.xlsx\", index=False)"
   ]
  },
  {
   "cell_type": "code",
   "execution_count": null,
   "id": "3c3531d1",
   "metadata": {},
   "outputs": [
    {
     "name": "stdout",
     "output_type": "stream",
     "text": [
      "리뷰 수 5 이상 사용자 수: 1703명\n",
      "필터링 후 리뷰 수: 12405개\n",
      "원래 리뷰 수: 47807개\n"
     ]
    }
   ],
   "source": [
    "print(f\"리뷰 수 {threshold} 이상 사용자 수: {len(users_to_keep)}명\")\n",
    "print(f\"필터링 후 리뷰 수: {len(filtered_df)}개\")\n",
    "print(f\"원래 리뷰 수: {len(df)}개\")\n",
    "# threshold 5:  24126 1703 1703명의 유저"
   ]
  },
  {
   "cell_type": "markdown",
   "id": "c8a57c21",
   "metadata": {},
   "source": [
    "### 7. utility matrix\n",
    "- row: user\n",
    "- column : restaurant \n",
    "- rating: number of visits\n",
    "    - 0: 방문하지 않음\n",
    "    - 1: 1번 방문함\n",
    "    - 2: 2번 이상 방문함\n"
   ]
  },
  {
   "cell_type": "code",
   "execution_count": null,
   "id": "b709594f",
   "metadata": {},
   "outputs": [
    {
     "name": "stdout",
     "output_type": "stream",
     "text": [
      "restaurant_id  1     3     7     25    42    56    65    67    95    101   \\\n",
      "user_id                                                                     \n",
      "3                 0     0     0     0     0     0     0     0     0     0   \n",
      "26                0     0     0     0     0     0     0     0     0     0   \n",
      "47                0     0     0     0     0     0     0     0     0     0   \n",
      "55                0     0     0     0     0     0     0     0     0     0   \n",
      "64                0     0     0     0     0     0     0     0     0     0   \n",
      "\n",
      "restaurant_id  ...  3594  3597  3602  3607  3617  3622  3630  3633  3634  3635  \n",
      "user_id        ...                                                              \n",
      "3              ...     0     1     0     0     0     0     0     0     0     0  \n",
      "26             ...     0     0     0     0     0     0     0     0     0     0  \n",
      "47             ...     0     0     0     0     0     0     0     0     0     0  \n",
      "55             ...     0     0     0     0     0     0     0     0     0     0  \n",
      "64             ...     0     0     1     0     0     0     0     0     0     0  \n",
      "\n",
      "[5 rows x 314 columns]\n"
     ]
    }
   ],
   "source": [
    "ut_df = pd.read_excel(\"/proj-rs/data/02_restaurants/user_review_excel/05_6_reviews_threshold5.xlsx\")\n",
    "\n",
    "users = ut_df['user_id'].unique()\n",
    "restaurants = ut_df['restaurant_id'].unique()\n",
    "\n",
    "# 모든 user_id x restaurant_id 조합\n",
    "full_index = pd.MultiIndex.from_product([users, restaurants], names=['user_id', 'restaurant_id'])\n",
    "full_df = pd.DataFrame(index=full_index).reset_index()\n",
    "\n",
    "merged_df = pd.merge(full_df, ut_df[['user_id', 'restaurant_id', 'num_visit']], \n",
    "                     on=['user_id', 'restaurant_id'], how='left')\n",
    "\n",
    "def visit_level(x):\n",
    "    if pd.isna(x):\n",
    "        return 0\n",
    "    elif x == 1:\n",
    "        return 1\n",
    "    else:\n",
    "        return 2\n",
    "\n",
    "merged_df['visit_level'] = merged_df['num_visit'].apply(visit_level)\n",
    "utility_matrix = merged_df.pivot(index='user_id', columns='restaurant_id', values='visit_level')\n",
    "\n",
    "print(utility_matrix.head())"
   ]
  },
  {
   "cell_type": "code",
   "execution_count": null,
   "id": "d53e56ae",
   "metadata": {},
   "outputs": [],
   "source": [
    "utility_matrix.to_excel(\"/proj-rs/data/02_restaurants/user_review_excel/05_7_utility_matrix.xlsx\")"
   ]
  }
 ],
 "metadata": {
  "kernelspec": {
   "display_name": "rs",
   "language": "python",
   "name": "python3"
  },
  "language_info": {
   "codemirror_mode": {
    "name": "ipython",
    "version": 3
   },
   "file_extension": ".py",
   "mimetype": "text/x-python",
   "name": "python",
   "nbconvert_exporter": "python",
   "pygments_lexer": "ipython3",
   "version": "3.9.23"
  }
 },
 "nbformat": 4,
 "nbformat_minor": 5
}
